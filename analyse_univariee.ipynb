{
 "cells": [
  {
   "cell_type": "markdown",
   "id": "b8af0146",
   "metadata": {},
   "source": [
    "# Réaliser une analyse univariée en Python\n",
    "\n",
    "## Qu'est-ce que l'analyse univariée ?\n",
    "\n",
    "En statistiques, on a souvent besoin d'analyser des volumes de données variés. Avant de plonger dans les modèles et autres techniques complexes, il est nécessaire de bien comprendre son jeu de données. Pour cela, on utilise l'analyse univarée. L'analyse univariée permet de :\n",
    "\n",
    "- décrire l'individu moyen d'un jeu de données.\n",
    "- Identifier la distribution de la ou des variables à analyser.\n",
    "- Comparer les individus entre eux, par rapport à l'individu moyen.\n",
    "\n",
    "Cette étape intervient à la suite du nettoyage, avec succès, de la table (éliminer les doublons, imputer des valeurs etc). C'est une étape nécessaire avant de réaliser des analyses bivariées ou multivariées (corrélation, liaison entre variables etc).\n",
    "\n",
    "## Comment réaliser une analyse univariée ?\n",
    "\n",
    "Nous avons besoin d'estimer des \"paramètres\". Autrement dit, des valeurs qui vont caractériser les variables et le jeu de données. On distingue :\n",
    "- les paramètres de position : moyenne, médian, mode.\n",
    "- Les paramètres de dispersion : écart-type (racine carré de la variance), variance (dispersion autour de la moyenne), écart-inter-quartile et quartiles/quantiles.\n",
    "\n",
    "L'écart-type est exprimé sur la même unité que la variable étudiée.\n",
    "\n",
    "Il faut bien distinguer les définitions de la moyenne et de la médiane, car ils décrivent des caractéristiques distincts de la variable. Le mode est la valeur la plus présente dans la variable. Par exemple : on regarde des salaires.\n",
    "\n",
    "Il existe de nombreuses types de moyennes : pondérées, géométriques etc. chaque type de moyenne est adaptée à une situation particulière. Il faut donc s'intéresser de près au domaine de connaissance pour savoir quelle est la moyenne la plus adaptée.\n",
    "Par exemple : dans un ensemble de notes sur un semestre pour un étudiant. Chaque matière dispose d'une ou plusieurs notes. Pour chaque matière, le poids de chaque note est le même (on utilise donc la moyenne arithmétique). Mais les matières entre elles ont des poids différents sur la moyenne finale. Dans ce cas, on utilisera la moyenne pondérée pour calculer la moyenne générale.\n",
    "\n",
    "Prendre les [donnees ici](https://gist.github.com/netj/8836201)."
   ]
  },
  {
   "cell_type": "code",
   "execution_count": 4,
   "id": "89809d85",
   "metadata": {},
   "outputs": [],
   "source": [
    "## Importer les bibliothèques pour l'analyse\n",
    "\n",
    "import pandas ## Manipuler des données sous forme de Series et DataFrame.\n",
    "import numpy ## Calcul sur des matrices.\n",
    "import matplotlib.pyplot as plt ## Représentation graphique.\n",
    "import seaborn ## Représentations graphiques matplotlib embellies et codes simplifiés.\n",
    "from tabulate import tabulate ## Améliorer le rendu visuel des df pandas.\n"
   ]
  },
  {
   "cell_type": "code",
   "execution_count": 5,
   "id": "c7d713bc",
   "metadata": {},
   "outputs": [
    {
     "data": {
      "text/html": [
       "<div>\n",
       "<style scoped>\n",
       "    .dataframe tbody tr th:only-of-type {\n",
       "        vertical-align: middle;\n",
       "    }\n",
       "\n",
       "    .dataframe tbody tr th {\n",
       "        vertical-align: top;\n",
       "    }\n",
       "\n",
       "    .dataframe thead th {\n",
       "        text-align: right;\n",
       "    }\n",
       "</style>\n",
       "<table border=\"1\" class=\"dataframe\">\n",
       "  <thead>\n",
       "    <tr style=\"text-align: right;\">\n",
       "      <th></th>\n",
       "      <th>sepal.length</th>\n",
       "      <th>sepal.width</th>\n",
       "      <th>petal.length</th>\n",
       "      <th>petal.width</th>\n",
       "      <th>variety</th>\n",
       "    </tr>\n",
       "  </thead>\n",
       "  <tbody>\n",
       "    <tr>\n",
       "      <th>0</th>\n",
       "      <td>5.1</td>\n",
       "      <td>3.5</td>\n",
       "      <td>1.4</td>\n",
       "      <td>0.2</td>\n",
       "      <td>Setosa</td>\n",
       "    </tr>\n",
       "    <tr>\n",
       "      <th>1</th>\n",
       "      <td>4.9</td>\n",
       "      <td>3.0</td>\n",
       "      <td>1.4</td>\n",
       "      <td>0.2</td>\n",
       "      <td>Setosa</td>\n",
       "    </tr>\n",
       "    <tr>\n",
       "      <th>2</th>\n",
       "      <td>4.7</td>\n",
       "      <td>3.2</td>\n",
       "      <td>1.3</td>\n",
       "      <td>0.2</td>\n",
       "      <td>Setosa</td>\n",
       "    </tr>\n",
       "    <tr>\n",
       "      <th>3</th>\n",
       "      <td>4.6</td>\n",
       "      <td>3.1</td>\n",
       "      <td>1.5</td>\n",
       "      <td>0.2</td>\n",
       "      <td>Setosa</td>\n",
       "    </tr>\n",
       "    <tr>\n",
       "      <th>4</th>\n",
       "      <td>5.0</td>\n",
       "      <td>3.6</td>\n",
       "      <td>1.4</td>\n",
       "      <td>0.2</td>\n",
       "      <td>Setosa</td>\n",
       "    </tr>\n",
       "  </tbody>\n",
       "</table>\n",
       "</div>"
      ],
      "text/plain": [
       "   sepal.length  sepal.width  petal.length  petal.width variety\n",
       "0           5.1          3.5           1.4          0.2  Setosa\n",
       "1           4.9          3.0           1.4          0.2  Setosa\n",
       "2           4.7          3.2           1.3          0.2  Setosa\n",
       "3           4.6          3.1           1.5          0.2  Setosa\n",
       "4           5.0          3.6           1.4          0.2  Setosa"
      ]
     },
     "execution_count": 5,
     "metadata": {},
     "output_type": "execute_result"
    }
   ],
   "source": [
    "iris = pandas.read_csv(\".\\\\DONNEES\\\\iris.csv\") ## Indiquer le chemin relatif\n",
    "iris.head() ## Afficher les 5 premières lignes."
   ]
  },
  {
   "cell_type": "code",
   "execution_count": 16,
   "id": "4f160a50",
   "metadata": {},
   "outputs": [
    {
     "name": "stdout",
     "output_type": "stream",
     "text": [
      "     sepal.length  sepal.width  petal.length  petal.width    variety\n",
      "0             5.1          3.5           1.4          0.2     Setosa\n",
      "1             4.9          3.0           1.4          0.2     Setosa\n",
      "2             4.7          3.2           1.3          0.2     Setosa\n",
      "3             4.6          3.1           1.5          0.2     Setosa\n",
      "4             5.0          3.6           1.4          0.2     Setosa\n",
      "..            ...          ...           ...          ...        ...\n",
      "145           6.7          3.0           5.2          2.3  Virginica\n",
      "146           6.3          2.5           5.0          1.9  Virginica\n",
      "147           6.5          3.0           5.2          2.0  Virginica\n",
      "148           6.2          3.4           5.4          2.3  Virginica\n",
      "149           5.9          3.0           5.1          1.8  Virginica\n",
      "\n",
      "[150 rows x 5 columns]\n"
     ]
    }
   ],
   "source": [
    "print(iris)"
   ]
  },
  {
   "cell_type": "code",
   "execution_count": 7,
   "id": "ea18c47a",
   "metadata": {},
   "outputs": [
    {
     "name": "stdout",
     "output_type": "stream",
     "text": [
      "<class 'pandas.core.frame.DataFrame'>\n",
      "RangeIndex: 150 entries, 0 to 149\n",
      "Data columns (total 5 columns):\n",
      " #   Column        Non-Null Count  Dtype  \n",
      "---  ------        --------------  -----  \n",
      " 0   sepal.length  150 non-null    float64\n",
      " 1   sepal.width   150 non-null    float64\n",
      " 2   petal.length  150 non-null    float64\n",
      " 3   petal.width   150 non-null    float64\n",
      " 4   variety       150 non-null    object \n",
      "dtypes: float64(4), object(1)\n",
      "memory usage: 6.0+ KB\n"
     ]
    }
   ],
   "source": [
    "iris.info() ## vérifier les types passés"
   ]
  },
  {
   "cell_type": "code",
   "execution_count": 17,
   "id": "73c0cb9a",
   "metadata": {},
   "outputs": [
    {
     "data": {
      "text/plain": [
       "array(['Setosa', 'Versicolor', 'Virginica'], dtype=object)"
      ]
     },
     "execution_count": 17,
     "metadata": {},
     "output_type": "execute_result"
    }
   ],
   "source": [
    "## Récupérer les valeurs uniques :\n",
    "\n",
    "iris[\"variety\"].unique()"
   ]
  },
  {
   "cell_type": "markdown",
   "id": "384992f4",
   "metadata": {},
   "source": [
    "## Calcul des tendances centrales"
   ]
  },
  {
   "cell_type": "code",
   "execution_count": 8,
   "id": "55e2c38a",
   "metadata": {},
   "outputs": [
    {
     "data": {
      "text/plain": [
       "sepal.length    5.843333\n",
       "sepal.width     3.057333\n",
       "petal.length    3.758000\n",
       "petal.width     1.199333\n",
       "dtype: float64"
      ]
     },
     "execution_count": 8,
     "metadata": {},
     "output_type": "execute_result"
    }
   ],
   "source": [
    "## Calcul de la moyenne\n",
    "\n",
    "## On calcule la moyenne en indiquant les champs à prendre en compte si tous ne sont pas des int/float.\n",
    "## La méthode .mean() s'applique au \"subset\" du dataframe. Elle s'applique aux colonnes.\n",
    "\n",
    "iris[ [\"sepal.length\", \"sepal.width\", \"petal.length\", \"petal.width\"] ].mean()"
   ]
  },
  {
   "cell_type": "code",
   "execution_count": 9,
   "id": "80395e0d",
   "metadata": {},
   "outputs": [
    {
     "data": {
      "text/plain": [
       "sepal.length    5.80\n",
       "sepal.width     3.00\n",
       "petal.length    4.35\n",
       "petal.width     1.30\n",
       "dtype: float64"
      ]
     },
     "execution_count": 9,
     "metadata": {},
     "output_type": "execute_result"
    }
   ],
   "source": [
    "## Calcul de la médiane :\n",
    "\n",
    "iris[ [\"sepal.length\", \"sepal.width\", \"petal.length\", \"petal.width\"] ].median()"
   ]
  },
  {
   "cell_type": "code",
   "execution_count": 10,
   "id": "420d1d7e",
   "metadata": {},
   "outputs": [
    {
     "data": {
      "text/plain": [
       "sepal.length    0.685694\n",
       "sepal.width     0.189979\n",
       "petal.length    3.116278\n",
       "petal.width     0.581006\n",
       "dtype: float64"
      ]
     },
     "execution_count": 10,
     "metadata": {},
     "output_type": "execute_result"
    }
   ],
   "source": [
    "## Calcul de la variance :\n",
    "\n",
    "iris[ [\"sepal.length\", \"sepal.width\", \"petal.length\", \"petal.width\"] ].var()"
   ]
  },
  {
   "cell_type": "markdown",
   "id": "cac59364",
   "metadata": {},
   "source": [
    "Pour bien analyser la variance, il est nécessaire de la comparer. Dans ce contexte, nous pouvons comparer les variances des différentes variables. Mais au même titre que la moyenne, elle est plus pertinente quand on comparer des populations différentes."
   ]
  },
  {
   "cell_type": "code",
   "execution_count": 11,
   "id": "f3ba0606",
   "metadata": {},
   "outputs": [
    {
     "data": {
      "text/plain": [
       "sepal.length    0.828066\n",
       "sepal.width     0.435866\n",
       "petal.length    1.765298\n",
       "petal.width     0.762238\n",
       "dtype: float64"
      ]
     },
     "execution_count": 11,
     "metadata": {},
     "output_type": "execute_result"
    }
   ],
   "source": [
    "## Calcul de l'écart-type :\n",
    "\n",
    "iris[ [\"sepal.length\", \"sepal.width\", \"petal.length\", \"petal.width\"] ].std()"
   ]
  },
  {
   "cell_type": "code",
   "execution_count": null,
   "id": "8940d21b",
   "metadata": {},
   "outputs": [],
   "source": [
    "Idem que pour la variance."
   ]
  },
  {
   "cell_type": "code",
   "execution_count": 13,
   "id": "108f063e",
   "metadata": {},
   "outputs": [
    {
     "data": {
      "text/html": [
       "<div>\n",
       "<style scoped>\n",
       "    .dataframe tbody tr th:only-of-type {\n",
       "        vertical-align: middle;\n",
       "    }\n",
       "\n",
       "    .dataframe tbody tr th {\n",
       "        vertical-align: top;\n",
       "    }\n",
       "\n",
       "    .dataframe thead th {\n",
       "        text-align: right;\n",
       "    }\n",
       "</style>\n",
       "<table border=\"1\" class=\"dataframe\">\n",
       "  <thead>\n",
       "    <tr style=\"text-align: right;\">\n",
       "      <th></th>\n",
       "      <th>sepal.length</th>\n",
       "      <th>sepal.width</th>\n",
       "      <th>petal.length</th>\n",
       "      <th>petal.width</th>\n",
       "    </tr>\n",
       "  </thead>\n",
       "  <tbody>\n",
       "    <tr>\n",
       "      <th>0.25</th>\n",
       "      <td>5.1</td>\n",
       "      <td>2.8</td>\n",
       "      <td>1.60</td>\n",
       "      <td>0.3</td>\n",
       "    </tr>\n",
       "    <tr>\n",
       "      <th>0.50</th>\n",
       "      <td>5.8</td>\n",
       "      <td>3.0</td>\n",
       "      <td>4.35</td>\n",
       "      <td>1.3</td>\n",
       "    </tr>\n",
       "    <tr>\n",
       "      <th>0.75</th>\n",
       "      <td>6.4</td>\n",
       "      <td>3.3</td>\n",
       "      <td>5.10</td>\n",
       "      <td>1.8</td>\n",
       "    </tr>\n",
       "  </tbody>\n",
       "</table>\n",
       "</div>"
      ],
      "text/plain": [
       "      sepal.length  sepal.width  petal.length  petal.width\n",
       "0.25           5.1          2.8          1.60          0.3\n",
       "0.50           5.8          3.0          4.35          1.3\n",
       "0.75           6.4          3.3          5.10          1.8"
      ]
     },
     "execution_count": 13,
     "metadata": {},
     "output_type": "execute_result"
    }
   ],
   "source": [
    "## Calcul des quartiles :\n",
    "\n",
    "iris[ [\"sepal.length\", \"sepal.width\", \"petal.length\", \"petal.width\"] ].quantile([0.25, 0.5, 0.75])"
   ]
  },
  {
   "cell_type": "code",
   "execution_count": 14,
   "id": "87b75131",
   "metadata": {},
   "outputs": [
    {
     "name": "stdout",
     "output_type": "stream",
     "text": [
      "╒═══════╤════════════════╤═══════════════╤════════════════╤═══════════════╕\n",
      "│       │  sepal.length  │  sepal.width  │  petal.length  │  petal.width  │\n",
      "╞═══════╪════════════════╪═══════════════╪════════════════╪═══════════════╡\n",
      "│ count │      150       │      150      │      150       │      150      │\n",
      "├───────┼────────────────┼───────────────┼────────────────┼───────────────┤\n",
      "│ mean  │    5.84333     │    3.05733    │     3.758      │    1.19933    │\n",
      "├───────┼────────────────┼───────────────┼────────────────┼───────────────┤\n",
      "│ std   │    0.828066    │   0.435866    │     1.7653     │   0.762238    │\n",
      "├───────┼────────────────┼───────────────┼────────────────┼───────────────┤\n",
      "│ min   │      4.3       │       2       │       1        │      0.1      │\n",
      "├───────┼────────────────┼───────────────┼────────────────┼───────────────┤\n",
      "│ 25%   │      5.1       │      2.8      │      1.6       │      0.3      │\n",
      "├───────┼────────────────┼───────────────┼────────────────┼───────────────┤\n",
      "│ 50%   │      5.8       │       3       │      4.35      │      1.3      │\n",
      "├───────┼────────────────┼───────────────┼────────────────┼───────────────┤\n",
      "│ 75%   │      6.4       │      3.3      │      5.1       │      1.8      │\n",
      "├───────┼────────────────┼───────────────┼────────────────┼───────────────┤\n",
      "│ max   │      7.9       │      4.4      │      6.9       │      2.5      │\n",
      "╘═══════╧════════════════╧═══════════════╧════════════════╧═══════════════╛\n"
     ]
    }
   ],
   "source": [
    "## Voici les méthodes \"manuelles\". Mais on peut préférer une méthode plus rapide :\n",
    "\n",
    "desc = iris[ [\"sepal.length\", \"sepal.width\", \"petal.length\", \"petal.width\"] ].describe()\n",
    "## .describe() calcule des statistiques sommaires.\n",
    "## On stocke le résultat de .describe() dans une variable.\n",
    "\n",
    "## On affiche les résultats de .describe() \"joliment\" :\n",
    "\n",
    "print(tabulate(desc, headers=\"keys\", tablefmt=\"fancy_grid\", numalign=\"center\"))"
   ]
  },
  {
   "cell_type": "markdown",
   "id": "6a018f4d",
   "metadata": {},
   "source": [
    "## Les graphiques\n",
    "\n",
    "Bien que les chiffres sont des valeurs précises, on peut avoir besoin de graphique pour des comparaisons \"rapides\" ou pour présenter des résultats. Dans ce cas, on aura recourt à deux bibliothèques (dans un premier temps) : **matplotlib** et **seaborn**.\n",
    "\n",
    "### Présentation rapide de matplotlib\n",
    "\n",
    "Matplotlib est une bibliotèque riche de fonctionnalités pour réaliser divers graphiques. Sa richesse réside dans deux éléments :\n",
    "- diversité des graphiques disponibles.\n",
    "- Manipulation des fenêtres graphiques.\n",
    "\n",
    "Il est alors possible, par exemple, de réaliser des mosaïques de graphiques. Cependant, cette bibliothèque peut sembler complexe lorsqu'on veut réaliser de simples opérations (histogramme, barplot etc). On peut préférer dans ce cas seaborn. On peut également commenter les graphiques produits, adapter automatiquement la fenêtre en fonction de l'emprise ou bloquer la fenêtre, réaliser des cartes etc.\n",
    "\n",
    "Matplotlib est intégré à pandas. Ainsi, la méthode .plot() de pandas y fait appel.\n",
    "\n",
    "Enfin, cette bibliothèque supporte les dataframe et les arrays des bibliothèques pandas et numpy, respectivement. Il n'y a donc pas de soucis dessus. Elle supporte également les listes et autres structures de données de base en Python.\n",
    "\n",
    "Accéder à la [documentation](https://matplotlib.org/stable/index.html).\n",
    "\n",
    "\n",
    "### Présentation rapide de seaborn\n",
    "\n",
    "Seaborn est une bibliothèque qui s'appuie sur matplotlib (donc les méthodes et attributs de matplotlib existent aussi chez seaborn). En revanche, elle est plus maniable, propose des rendus plus \"beaux\" (et donc moins de travail d'embelissement), et plus faciles à réaliser.\n",
    "Accéder à la [documentation](https://seaborn.pydata.org/).\n",
    "\n",
    "### Conseils d'apprentissage sur les biblothèques graphiques\n",
    "\n",
    "Les bibliothèques graphiques sont nécessaires dans l'analyse de données. D'une part, parce que certaines analyses sont visuelles et des corrections peuvent être apportées en fonction de ce qu'on va représenter (par exemple en géographie), d'autre part, il est souvent plus facile de transmettre via des graphiques que par des tableaux.\n",
    "\n",
    "Il ne faut donc pas faire l'impasse dessus.\n",
    "\n",
    "Dans un premier temps, et afin d'être opérationnel, il peut-être plus intéressant de savoir manipuler seaborn (les graphiques sont plus faciles à réaliser, plus jolis, les exports sont possibles pour intégrer des graphiques dans une présentation).\n",
    "\n",
    "Dans un second temps, avoir en tête les possibilités de matplotlib en terme de rendus est un véritable atout lorsque, lors de l'analyse, il faut faire des comparaisons afin d'aiguiller l'analyse.\n",
    "\n",
    "Enfin, ces bibilothèques ne sont pas les seules disponibles et accessibles et dans un contexte où les volumes de données peuvent être très grands, les graphiques interactifs peuvent être plus pertinents. Dans ce cas, on peut se tourner vers [bokeh](http://bokeh.org/) et [plotly](https://plotly.com/python/).\n",
    " \n"
   ]
  },
  {
   "cell_type": "markdown",
   "id": "50cde6ea",
   "metadata": {},
   "source": [
    "## Paramètres de dispersion"
   ]
  },
  {
   "cell_type": "code",
   "execution_count": 15,
   "id": "48d68ba8",
   "metadata": {},
   "outputs": [
    {
     "data": {
      "image/png": "[encoded data removed]",
      "text/plain": [
       "<Figure size 1600x600 with 4 Axes>"
      ]
     },
     "metadata": {},
     "output_type": "display_data"
    }
   ],
   "source": [
    "fig, axes = plt.subplots(nrows=1, ncols=4, figsize=(16, 6))\n",
    "\n",
    "for i, col in enumerate(iris.columns[:-1]) :\n",
    "    seaborn.boxplot(data=iris, y=col, ax=axes[i])\n",
    "    axes[i].set_title(f\"Boxplot de {col}\")\n",
    "    \n",
    "plt.tight_layout()\n",
    "plt.show()"
   ]
  },
  {
   "cell_type": "code",
   "execution_count": 20,
   "id": "a0eb65af",
   "metadata": {},
   "outputs": [
    {
     "data": {
      "text/html": [
       "<div>\n",
       "<style scoped>\n",
       "    .dataframe tbody tr th:only-of-type {\n",
       "        vertical-align: middle;\n",
       "    }\n",
       "\n",
       "    .dataframe tbody tr th {\n",
       "        vertical-align: top;\n",
       "    }\n",
       "\n",
       "    .dataframe thead th {\n",
       "        text-align: right;\n",
       "    }\n",
       "</style>\n",
       "<table border=\"1\" class=\"dataframe\">\n",
       "  <thead>\n",
       "    <tr style=\"text-align: right;\">\n",
       "      <th></th>\n",
       "      <th>variety</th>\n",
       "      <th>sepal.length</th>\n",
       "      <th>sepal.width</th>\n",
       "      <th>petal.length</th>\n",
       "      <th>petal.width</th>\n",
       "    </tr>\n",
       "  </thead>\n",
       "  <tbody>\n",
       "    <tr>\n",
       "      <th>0</th>\n",
       "      <td>Setosa</td>\n",
       "      <td>5.006</td>\n",
       "      <td>3.428</td>\n",
       "      <td>1.462</td>\n",
       "      <td>0.246</td>\n",
       "    </tr>\n",
       "    <tr>\n",
       "      <th>1</th>\n",
       "      <td>Versicolor</td>\n",
       "      <td>5.936</td>\n",
       "      <td>2.770</td>\n",
       "      <td>4.260</td>\n",
       "      <td>1.326</td>\n",
       "    </tr>\n",
       "    <tr>\n",
       "      <th>2</th>\n",
       "      <td>Virginica</td>\n",
       "      <td>6.588</td>\n",
       "      <td>2.974</td>\n",
       "      <td>5.552</td>\n",
       "      <td>2.026</td>\n",
       "    </tr>\n",
       "  </tbody>\n",
       "</table>\n",
       "</div>"
      ],
      "text/plain": [
       "      variety  sepal.length  sepal.width  petal.length  petal.width\n",
       "0      Setosa         5.006        3.428         1.462        0.246\n",
       "1  Versicolor         5.936        2.770         4.260        1.326\n",
       "2   Virginica         6.588        2.974         5.552        2.026"
      ]
     },
     "execution_count": 20,
     "metadata": {},
     "output_type": "execute_result"
    }
   ],
   "source": [
    "## Obtenir la moyenne des valeurs de chaque variable, selon le groupe :\n",
    "\n",
    "grp = iris.groupby(by=\"variety\", as_index=False)[[\"sepal.length\", \"sepal.width\", \"petal.length\", \"petal.width\"]].agg(\"mean\")\n",
    "grp\n"
   ]
  },
  {
   "cell_type": "code",
   "execution_count": 22,
   "id": "e70da199",
   "metadata": {},
   "outputs": [
    {
     "data": {
      "image/png": "[encoded data removed]",
      "text/plain": [
       "<Figure size 640x480 with 1 Axes>"
      ]
     },
     "metadata": {},
     "output_type": "display_data"
    }
   ],
   "source": [
    "seaborn.scatterplot(data=iris, ## dataframe\n",
    "                    x=\"sepal.length\", ## nom de la colonne en x du df\n",
    "                    y=\"sepal.width\", ## nom de la colonne en y du df\n",
    "                    hue=\"variety\") ## nom de la colonne du df qui permet de catégoriser les points\n",
    "plt.savefig(\".\\\\RESULTATS\\\\iris_1.png\") ## utiliser aussi .svg et ouvrir dans une application dédiée."
   ]
  },
  {
   "cell_type": "code",
   "execution_count": 25,
   "id": "c63eff47",
   "metadata": {},
   "outputs": [
    {
     "data": {
      "image/png": "[encoded data removed]",
      "text/plain": [
       "<Figure size 640x480 with 1 Axes>"
      ]
     },
     "metadata": {},
     "output_type": "display_data"
    }
   ],
   "source": [
    "seaborn.scatterplot(data=iris, ## dataframe\n",
    "                    x=\"sepal.length\", ## nom de la colonne en x du df\n",
    "                    y=\"sepal.width\", ## nom de la colonne en y du df\n",
    "                    size=\"petal.width\",\n",
    "                    alpha=0.5, ## transparence de 0% (0) à 100% (1).\n",
    "                    hue=\"variety\") ## nom de la colonne du df qui permet de catégoriser les points.\n",
    "plt.legend(bbox_to_anchor=(1.05, 1.0), loc='upper left') ## Mettre la légende hors du graphique.\n",
    "plt.savefig(\".\\\\RESULTATS\\\\iris_2.png\") ## utiliser aussi .svg et ouvrir dans une application dédiée."
   ]
  },
  {
   "cell_type": "code",
   "execution_count": 39,
   "id": "86817e3e",
   "metadata": {},
   "outputs": [
    {
     "data": {
      "text/html": [
       "<div>\n",
       "<style scoped>\n",
       "    .dataframe tbody tr th:only-of-type {\n",
       "        vertical-align: middle;\n",
       "    }\n",
       "\n",
       "    .dataframe tbody tr th {\n",
       "        vertical-align: top;\n",
       "    }\n",
       "\n",
       "    .dataframe thead th {\n",
       "        text-align: right;\n",
       "    }\n",
       "</style>\n",
       "<table border=\"1\" class=\"dataframe\">\n",
       "  <thead>\n",
       "    <tr style=\"text-align: right;\">\n",
       "      <th></th>\n",
       "      <th>nb_indiv</th>\n",
       "    </tr>\n",
       "  </thead>\n",
       "  <tbody>\n",
       "    <tr>\n",
       "      <th>Setosa</th>\n",
       "      <td>50</td>\n",
       "    </tr>\n",
       "    <tr>\n",
       "      <th>Versicolor</th>\n",
       "      <td>50</td>\n",
       "    </tr>\n",
       "    <tr>\n",
       "      <th>Virginica</th>\n",
       "      <td>50</td>\n",
       "    </tr>\n",
       "  </tbody>\n",
       "</table>\n",
       "</div>"
      ],
      "text/plain": [
       "            nb_indiv\n",
       "Setosa            50\n",
       "Versicolor        50\n",
       "Virginica         50"
      ]
     },
     "execution_count": 39,
     "metadata": {},
     "output_type": "execute_result"
    }
   ],
   "source": [
    "## Créer un dataframe pour compter le nombre d'individus :\n",
    "\n",
    "## remarque : on peut utiliser un countplot. Mais pour l'exemple, on va le faire à la main :\n",
    "\n",
    "\n",
    "varietes = [ i for i in iris[\"variety\"].unique() ]\n",
    "quanti = list()\n",
    "\n",
    "for i in varietes :\n",
    "    d = iris[ iris[\"variety\"] == i ] ## Sélection selon une condition, sur une colonne.\n",
    "    \n",
    "    nb = d.shape[0]\n",
    "    \n",
    "    quanti.append(nb)\n",
    "\n",
    "nb_indiv = pandas.DataFrame(data=quanti, ## valeurs\n",
    "                            index=varietes, ## les index\n",
    "                            columns=[\"nb_indiv\"]) ## nom de la colonne\n",
    "\n",
    "nb_indiv"
   ]
  },
  {
   "cell_type": "code",
   "execution_count": 43,
   "id": "728a0564",
   "metadata": {},
   "outputs": [
    {
     "data": {
      "text/html": [
       "<div>\n",
       "<style scoped>\n",
       "    .dataframe tbody tr th:only-of-type {\n",
       "        vertical-align: middle;\n",
       "    }\n",
       "\n",
       "    .dataframe tbody tr th {\n",
       "        vertical-align: top;\n",
       "    }\n",
       "\n",
       "    .dataframe thead th {\n",
       "        text-align: right;\n",
       "    }\n",
       "</style>\n",
       "<table border=\"1\" class=\"dataframe\">\n",
       "  <thead>\n",
       "    <tr style=\"text-align: right;\">\n",
       "      <th></th>\n",
       "      <th>nb_indiv</th>\n",
       "      <th>p</th>\n",
       "    </tr>\n",
       "  </thead>\n",
       "  <tbody>\n",
       "    <tr>\n",
       "      <th>Setosa</th>\n",
       "      <td>50</td>\n",
       "      <td>33.333333</td>\n",
       "    </tr>\n",
       "    <tr>\n",
       "      <th>Versicolor</th>\n",
       "      <td>50</td>\n",
       "      <td>33.333333</td>\n",
       "    </tr>\n",
       "    <tr>\n",
       "      <th>Virginica</th>\n",
       "      <td>50</td>\n",
       "      <td>33.333333</td>\n",
       "    </tr>\n",
       "  </tbody>\n",
       "</table>\n",
       "</div>"
      ],
      "text/plain": [
       "            nb_indiv          p\n",
       "Setosa            50  33.333333\n",
       "Versicolor        50  33.333333\n",
       "Virginica         50  33.333333"
      ]
     },
     "execution_count": 43,
     "metadata": {},
     "output_type": "execute_result"
    }
   ],
   "source": [
    "## Ensuite calculer le pourcentage d'individus :\n",
    "nb_indiv[\"p\"] = 0\n",
    "\n",
    "## Vectorisation -> permet un calcul plus rapide.\n",
    "def Pourcentage(r) :\n",
    "    s = nb_indiv[\"nb_indiv\"].sum()\n",
    "    \n",
    "    res = (r[\"nb_indiv\"] / s) * 100\n",
    "    \n",
    "    return res\n",
    "\n",
    "nb_indiv[\"p\"] = nb_indiv.apply(func=Pourcentage, axis=1)\n",
    "\n",
    "nb_indiv"
   ]
  },
  {
   "cell_type": "code",
   "execution_count": 48,
   "id": "d104df69",
   "metadata": {},
   "outputs": [
    {
     "data": {
      "image/png": "[encoded data removed]",
      "text/plain": [
       "<Figure size 640x480 with 1 Axes>"
      ]
     },
     "metadata": {},
     "output_type": "display_data"
    }
   ],
   "source": [
    "plt.pie(nb_indiv[\"p\"], labels = nb_indiv.index, autopct='%.0f%%')\n",
    "plt.show()"
   ]
  },
  {
   "cell_type": "markdown",
   "id": "1524f6b0",
   "metadata": {},
   "source": [
    "## Distribution et loi de probabilité"
   ]
  },
  {
   "cell_type": "markdown",
   "id": "d984acc1",
   "metadata": {},
   "source": [
    "Importance : quand on travaille en stats, on travaille sur un échantillon représentatif de la population totale, tiré du hasard donc de probabilité. Les probabilités permettent de connaître le processus générateur des données sur lesquels on travaille.\n",
    "On va voir les lois les plus connus."
   ]
  },
  {
   "cell_type": "code",
   "execution_count": null,
   "id": "273b3729",
   "metadata": {},
   "outputs": [],
   "source": [
    "import numpy\n",
    "import matplotlib.pyplot as plt\n",
    "import scipy.stats as st\n",
    "import seaborn"
   ]
  },
  {
   "cell_type": "markdown",
   "id": "80971b6f",
   "metadata": {},
   "source": [
    "### La loi normale (distribution de gausse)\n",
    "\n",
    "Continue, symétrique et forme en cloche.\n",
    "Moyenne = 0 et symétrique autour de la moyenne.\n",
    "\n",
    "trois caractéristiques :\n",
    "- moyenne = 0, variance = 1,\n",
    "- asymétrie = 0,\n",
    "- applatissement = 3\n",
    "\n",
    "Utilisé dans les algos paramétriques :\n",
    "- analyses de résidus.\n",
    "- Régression linéaire etc.\n",
    "\n",
    "**Elle est donc fondamentale**.\n",
    "\n",
    "\n"
   ]
  },
  {
   "cell_type": "markdown",
   "id": "59a355c7",
   "metadata": {},
   "source": [
    "### Loi du Khi2\n",
    "\n",
    ": somme des k lois normales centrée-réduites au carré. \n",
    "Caractéristiques :\n",
    "- Asymétrique.\n",
    "- Prend que des valeurs positives.\n",
    "\n",
    "Utilisée dans le test de khi2, dans le clustering [...], analyse de variance.\n",
    "\n",
    "\n"
   ]
  },
  {
   "cell_type": "markdown",
   "id": "f8e3db95",
   "metadata": {},
   "source": [
    "### Loi de Student\n",
    "\n",
    "Forme de la loi normale.\n",
    "Caractéristiques :\n",
    "- queues de distribution plus épaisses.\n",
    "- Loi normale / sqrt(loi khi2 / ddl)\n",
    "\n",
    "Utilisée pour déterminer la pertinence de paramètres.\n",
    "\n",
    "\n"
   ]
  },
  {
   "cell_type": "markdown",
   "id": "61640c9e",
   "metadata": {},
   "source": [
    "### Loi de Fischer\n",
    "\n",
    "- Asymétrique,\n",
    "- uniquement des valeurs positives.\n",
    "\n",
    "Utilisée dans les tests d'hypothèses, dans la régression linéaire.\n",
    "\n"
   ]
  },
  {
   "cell_type": "markdown",
   "id": "6577d7b3",
   "metadata": {},
   "source": [
    "### Loi uniforme\n",
    "\n",
    "Utilisée pour l'initialisation.\n",
    "Probabilité égale dans les tirages.\n",
    "Utilisée dans l'initialisation, dans la création de nombres alétoires etc.\n",
    "\n",
    "\n"
   ]
  },
  {
   "cell_type": "markdown",
   "id": "3d7d7bcd",
   "metadata": {},
   "source": [
    "### Loi de Poisson\n",
    "\n",
    "Loi des évènements rares et indépendants.\n",
    "Usages : nb défauts d'un appareil, modéliser des évènements rares (nb de pourboire etc).\n",
    "\n",
    "\n"
   ]
  },
  {
   "cell_type": "markdown",
   "id": "f65bcaf6",
   "metadata": {},
   "source": [
    "### Loi exponentielle\n",
    "\n",
    "Loi exponentielle, décrit le temps entre les évènements dans la loi de Poisson (ex: temps entre deux évènements rares, suivi, processus de renouvellement, auto-corrélation des séries temporelles).\n",
    "\n",
    "\n"
   ]
  },
  {
   "cell_type": "markdown",
   "id": "b32d13ac",
   "metadata": {},
   "source": [
    "### Loi de Bernouilli\n",
    "\n",
    "Quand les résultats d'un test sont binaires. Ex: lancer une pièce, classification binaire etc.\n",
    "\n"
   ]
  },
  {
   "cell_type": "markdown",
   "id": "edc4f8d4",
   "metadata": {},
   "source": [
    "### Loi binomiale\n",
    "\n",
    "Répétition de loi de Bernouilli. En gros, on va répéter une expérience qui a deux sorties possibles.\n",
    "\n",
    "\n"
   ]
  },
  {
   "cell_type": "markdown",
   "id": "cab191b5",
   "metadata": {},
   "source": [
    "### Loi multinomiale\n",
    "\n",
    "On suit plusieurs évènements indépendants. Ex : modèle de régression logistique polynomiale etc."
   ]
  },
  {
   "cell_type": "code",
   "execution_count": null,
   "id": "126322c6",
   "metadata": {},
   "outputs": [],
   "source": []
  }
 ],
 "metadata": {
  "kernelspec": {
   "display_name": "Python 3 (ipykernel)",
   "language": "python",
   "name": "python3"
  },
  "language_info": {
   "codemirror_mode": {
    "name": "ipython",
    "version": 3
   },
   "file_extension": ".py",
   "mimetype": "text/x-python",
   "name": "python",
   "nbconvert_exporter": "python",
   "pygments_lexer": "ipython3",
   "version": "3.9.16"
  }
 },
 "nbformat": 4,
 "nbformat_minor": 5
}
