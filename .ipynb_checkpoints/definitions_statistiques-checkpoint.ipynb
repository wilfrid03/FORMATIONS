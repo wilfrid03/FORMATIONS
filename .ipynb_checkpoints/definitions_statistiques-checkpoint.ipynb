{
 "cells": [
  {
   "cell_type": "markdown",
   "id": "e9a3e50f",
   "metadata": {},
   "source": [
    "# Bases statistiques\n",
    "\n",
    "Notebook qui recense les notions de bases en statistiques et leur définition."
   ]
  },
  {
   "cell_type": "markdown",
   "id": "34dc469e",
   "metadata": {},
   "source": [
    "**Statistiques** : ensemble de techniques qui permettent d'interpréter des données et de réaliser des modèles de prévisions.\n",
    "\n",
    "**Variable** : dans un jeu de données, la variable est un objet qui peut prendre au moins une valeur. Elle permet de décrire des individus. Les variables peuvent être quantitative (continue, discrète), qualitative (nominale, ordinale) ou binaire.\n",
    "\n",
    "**Individu** : dans un jeu de données, un individu représente un items, unique qui est caractérisé par au moins une variable. L'ensemble des individus est appelée **population**.\n",
    "\n",
    "**Moyenne arithmétique** : somme des valeurs divisée par le nombre de valeurs. Caractérise une variable.\n",
    "\n",
    "**Variance** : moyenne des écarts à la moyenne. Elle permet de savoir si les individus ont tendance à se rapprocher ou se disperser autour de la moyenne (si comparaison). C'est la somme des écarts à la moyenne au carré et divisée par le nombre d'individu.\n",
    "\n",
    "**Ecart-type** : racine carrée de la variance.\n",
    "\n",
    "**Fréquence** : estimée pour chaque valeur d'une variable. Nombre d'individu pour une valeur/effectif total.\n",
    "\n",
    "**Loi de probabilité** : distribution théorique de fréquences. Elle est utilisée pour caractériser des distributions et produire des modèles prévisionnels. Une loi de probabilité permet de décrire des phénomènes où interviennent le hasard. Les lois de probabilité décrivent toutes les valeurs que peut prendre une variable aléatoire et la probabilité que cette valeur soit dans un sous ensemble des valeurs possibles. Chaque loi possède des caractéristiques et des usages.\n",
    "[Qu'est-ce qu'une loi de probabilité ?](https://www-fourier.ujf-grenoble.fr/~parisse/giac/doc/fr/cassim/cassim002.html#:~:text=Les%20lois%20de%20probabilit%C3%A9s%20sont,une%20distribution%20th%C3%A9orique%20de%20fr%C3%A9quences.). [Définition simplifiées du concept de loi de probabilités](https://www.techno-science.net/glossaire-definition/Loi-de-probabilite.html).\n",
    "\n",
    "[Définitions des lois de probabilités](http://www.jybaudot.fr/Probas/loiproba.html).\n",
    "\n",
    "**Covariance** : mesure de la variance entre deux variables quantitatives. Plus la covariance est élevée, plus on dit que les variables \"covarient\" ensemble. \n",
    "\n",
    "\n",
    "**Corrélation** : Standardisation de la covariance. Varie entre -1 (corrélation négative) à 1 (corrélation positive). La valeur de la corrélation résulte souvent d'un test statistique que le P de Pearson, le Tau de Kendall ou le P de Spearman. Cependant, le résultat d'un test statistique ne suffit pas à indiquer une corrélation. Il faut accompagner ces résultats de la **p-valeur**, qui va indiquer dans quelle mesure les résultats sont fiables.\n"
   ]
  },
  {
   "cell_type": "code",
   "execution_count": null,
   "id": "c362c975",
   "metadata": {},
   "outputs": [],
   "source": []
  },
  {
   "cell_type": "code",
   "execution_count": null,
   "id": "88cbfc68",
   "metadata": {},
   "outputs": [],
   "source": []
  },
  {
   "cell_type": "code",
   "execution_count": null,
   "id": "011efd93",
   "metadata": {},
   "outputs": [],
   "source": []
  },
  {
   "cell_type": "code",
   "execution_count": null,
   "id": "e08d92f6",
   "metadata": {},
   "outputs": [],
   "source": []
  },
  {
   "cell_type": "code",
   "execution_count": null,
   "id": "25715392",
   "metadata": {},
   "outputs": [],
   "source": []
  },
  {
   "cell_type": "code",
   "execution_count": null,
   "id": "e434ecd1",
   "metadata": {},
   "outputs": [],
   "source": []
  },
  {
   "cell_type": "code",
   "execution_count": null,
   "id": "f4fe6377",
   "metadata": {},
   "outputs": [],
   "source": []
  },
  {
   "cell_type": "code",
   "execution_count": null,
   "id": "348a0fce",
   "metadata": {},
   "outputs": [],
   "source": []
  },
  {
   "cell_type": "code",
   "execution_count": null,
   "id": "7b810c50",
   "metadata": {},
   "outputs": [],
   "source": []
  },
  {
   "cell_type": "code",
   "execution_count": null,
   "id": "cabe77a5",
   "metadata": {},
   "outputs": [],
   "source": []
  },
  {
   "cell_type": "code",
   "execution_count": null,
   "id": "04e31b38",
   "metadata": {},
   "outputs": [],
   "source": []
  },
  {
   "cell_type": "code",
   "execution_count": null,
   "id": "02083d78",
   "metadata": {},
   "outputs": [],
   "source": []
  },
  {
   "cell_type": "code",
   "execution_count": null,
   "id": "c313de5b",
   "metadata": {},
   "outputs": [],
   "source": []
  },
  {
   "cell_type": "code",
   "execution_count": null,
   "id": "bdeb37d0",
   "metadata": {},
   "outputs": [],
   "source": []
  },
  {
   "cell_type": "code",
   "execution_count": null,
   "id": "a7f26c6b",
   "metadata": {},
   "outputs": [],
   "source": []
  },
  {
   "cell_type": "code",
   "execution_count": null,
   "id": "c3545984",
   "metadata": {},
   "outputs": [],
   "source": []
  },
  {
   "cell_type": "code",
   "execution_count": null,
   "id": "fd4e3d78",
   "metadata": {},
   "outputs": [],
   "source": []
  },
  {
   "cell_type": "code",
   "execution_count": null,
   "id": "ce5dc8c0",
   "metadata": {},
   "outputs": [],
   "source": []
  },
  {
   "cell_type": "code",
   "execution_count": null,
   "id": "b861cdcb",
   "metadata": {},
   "outputs": [],
   "source": []
  },
  {
   "cell_type": "code",
   "execution_count": null,
   "id": "eca92d0d",
   "metadata": {},
   "outputs": [],
   "source": []
  },
  {
   "cell_type": "code",
   "execution_count": null,
   "id": "17bd1467",
   "metadata": {},
   "outputs": [],
   "source": []
  },
  {
   "cell_type": "code",
   "execution_count": null,
   "id": "4df1c707",
   "metadata": {},
   "outputs": [],
   "source": []
  },
  {
   "cell_type": "code",
   "execution_count": null,
   "id": "c822362c",
   "metadata": {},
   "outputs": [],
   "source": [
    "\n"
   ]
  }
 ],
 "metadata": {
  "kernelspec": {
   "display_name": "Python 3 (ipykernel)",
   "language": "python",
   "name": "python3"
  },
  "language_info": {
   "codemirror_mode": {
    "name": "ipython",
    "version": 3
   },
   "file_extension": ".py",
   "mimetype": "text/x-python",
   "name": "python",
   "nbconvert_exporter": "python",
   "pygments_lexer": "ipython3",
   "version": "3.10.11"
  }
 },
 "nbformat": 4,
 "nbformat_minor": 5
}
