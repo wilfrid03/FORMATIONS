{
 "cells": [
  {
   "cell_type": "markdown",
   "id": "633524dd",
   "metadata": {},
   "source": [
    "# Script pour construire un répertoire de travail"
   ]
  },
  {
   "cell_type": "code",
   "execution_count": 1,
   "id": "7e46b822",
   "metadata": {},
   "outputs": [],
   "source": [
    "import os\n",
    "import sys\n",
    "import random\n",
    "import io"
   ]
  },
  {
   "cell_type": "code",
   "execution_count": 2,
   "id": "0a15eb0f",
   "metadata": {},
   "outputs": [
    {
     "data": {
      "text/plain": [
       "'C:\\\\Users\\\\wjulien\\\\OneDrive - GPSEA\\\\PROJETS\\\\FORMATIONS\\\\PYTHON\\\\SEANCE_01'"
      ]
     },
     "execution_count": 2,
     "metadata": {},
     "output_type": "execute_result"
    }
   ],
   "source": [
    "## Créer un répertoire avec des dossiers imbriqués\n",
    "os.getcwd()"
   ]
  },
  {
   "cell_type": "raw",
   "id": "1b22a192",
   "metadata": {},
   "source": [
    "ALGORITHME\n",
    "\n",
    "1/ Se placer dans le répertoire à partir duquel on veut créer les dossiers.\n",
    "2/ Définir le nombre de dossier à créer.\n",
    "3/ Définir le nombre de fichiers à créer (utiliser un nombre aléatoire).\n",
    "4/ Créer les dossiers au moyen d'une boucle.\n",
    "5/ A chaque création de dossier, créer un nombre de fichier aléatoire de type .txt.\n",
    "6/ Afficher l'ensemble des répertoires et des fichiers inclus dedans.\n"
   ]
  },
  {
   "cell_type": "code",
   "execution_count": 3,
   "id": "2ada25cf",
   "metadata": {},
   "outputs": [
    {
     "data": {
      "text/plain": [
       "'C:\\\\Users\\\\wjulien\\\\OneDrive - GPSEA\\\\PROJETS\\\\FORMATIONS\\\\PYTHON\\\\SEANCE_01\\\\DONNEES'"
      ]
     },
     "execution_count": 3,
     "metadata": {},
     "output_type": "execute_result"
    }
   ],
   "source": [
    "rep = \".\\\\DONNEES\\\\\" ## Le répertoire dans lequel on va créer les autres répertoires.\n",
    "os.chdir(rep) ## Se déplacer dans le nouveau répertoire.\n",
    "os.getcwd() ## Afficher le répertoire courant"
   ]
  },
  {
   "cell_type": "code",
   "execution_count": 4,
   "id": "bed198ba",
   "metadata": {},
   "outputs": [],
   "source": [
    "nb_doss = 11 ## Prendre le nombre de dossier à créer +1 car range() ne tient pas compte de la valeur max.\n",
    "\n",
    "\n",
    "for i in range(1, nb_doss) :\n",
    "    os.makedirs(f\"REP_{i}\")\n",
    "    rep_courant = f\"REP_{i}\"\n",
    "    \n",
    "    nb_fic = random.randint(1, 10)\n",
    "    for j in range(1, nb_fic) :\n",
    "        nom_fichier = f\"fic_{j}.txt\"\n",
    "        che_courant = os.getcwd() ## Récupérer le chemin courant.\n",
    "        \n",
    "        chemin = f\"{che_courant}\\\\{rep_courant}\"\n",
    "        chemin_complet = os.path.join(chemin, nom_fichier)\n",
    "        \n",
    "        with io.open(chemin_complet, \"w\") as fichier:\n",
    "            fichier.write(\"Ceci est le contenu de mon fichier.\\n\")\n"
   ]
  },
  {
   "cell_type": "code",
   "execution_count": null,
   "id": "70ded0ac",
   "metadata": {},
   "outputs": [],
   "source": []
  },
  {
   "cell_type": "code",
   "execution_count": null,
   "id": "60e9a77f",
   "metadata": {},
   "outputs": [],
   "source": []
  },
  {
   "cell_type": "code",
   "execution_count": null,
   "id": "8f73b67a",
   "metadata": {},
   "outputs": [],
   "source": []
  },
  {
   "cell_type": "code",
   "execution_count": null,
   "id": "7c86fb28",
   "metadata": {},
   "outputs": [],
   "source": []
  },
  {
   "cell_type": "code",
   "execution_count": null,
   "id": "7d360c37",
   "metadata": {},
   "outputs": [],
   "source": []
  }
 ],
 "metadata": {
  "kernelspec": {
   "display_name": "Python 3 (ipykernel)",
   "language": "python",
   "name": "python3"
  },
  "language_info": {
   "codemirror_mode": {
    "name": "ipython",
    "version": 3
   },
   "file_extension": ".py",
   "mimetype": "text/x-python",
   "name": "python",
   "nbconvert_exporter": "python",
   "pygments_lexer": "ipython3",
   "version": "3.9.16"
  }
 },
 "nbformat": 4,
 "nbformat_minor": 5
}
