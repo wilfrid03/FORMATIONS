{
 "cells": [
  {
   "cell_type": "markdown",
   "id": "53231cf2",
   "metadata": {},
   "source": [
    "# Séance 01 : variables, structures de données, structure de contrôle et répertoire"
   ]
  },
  {
   "cell_type": "code",
   "execution_count": null,
   "id": "1a99d1a2",
   "metadata": {},
   "outputs": [],
   "source": []
  },
  {
   "cell_type": "code",
   "execution_count": null,
   "id": "dece2f9d",
   "metadata": {},
   "outputs": [],
   "source": []
  },
  {
   "cell_type": "markdown",
   "id": "445e4f3b",
   "metadata": {},
   "source": [
    "## Qu'est-ce que Python ?\n",
    "\n",
    "Points à aborder :\n",
    "- Naissance du langage,\n",
    "- Domaine d'utilisation,\n",
    "- Comment se mettre à jour sur son Python ?\n",
    "- Les outils : VScode, Notebook Jupyter,\n",
    "- Cas d'usage : automatisation, préparation de données, analyses de données simplifiées [...]"
   ]
  },
  {
   "cell_type": "code",
   "execution_count": null,
   "id": "7cc86480",
   "metadata": {},
   "outputs": [],
   "source": []
  },
  {
   "cell_type": "markdown",
   "id": "4f23bf3c",
   "metadata": {},
   "source": [
    "## Variables et structures de données"
   ]
  },
  {
   "cell_type": "code",
   "execution_count": null,
   "id": "0960c48f",
   "metadata": {},
   "outputs": [],
   "source": []
  },
  {
   "cell_type": "code",
   "execution_count": null,
   "id": "b180651e",
   "metadata": {},
   "outputs": [],
   "source": []
  },
  {
   "cell_type": "code",
   "execution_count": null,
   "id": "771a78ae",
   "metadata": {},
   "outputs": [],
   "source": []
  },
  {
   "cell_type": "markdown",
   "id": "e4686852",
   "metadata": {},
   "source": [
    "## Structure de contrôle\n",
    "\n",
    "- if/else,\n",
    "- for,\n",
    "- while"
   ]
  },
  {
   "cell_type": "code",
   "execution_count": null,
   "id": "4499bbda",
   "metadata": {},
   "outputs": [],
   "source": []
  },
  {
   "cell_type": "code",
   "execution_count": null,
   "id": "680c4b6a",
   "metadata": {},
   "outputs": [],
   "source": []
  },
  {
   "cell_type": "code",
   "execution_count": null,
   "id": "ce617ec9",
   "metadata": {},
   "outputs": [],
   "source": []
  },
  {
   "cell_type": "code",
   "execution_count": null,
   "id": "e8a5287d",
   "metadata": {},
   "outputs": [],
   "source": []
  },
  {
   "cell_type": "markdown",
   "id": "d94c2ca3",
   "metadata": {},
   "source": [
    "## Fonctions usuelles\n",
    "\n",
    "- print().\n",
    "- Comment afficher du texte dynamique avec print() ?\n",
    "- La fonction format().\n",
    "- les f-string.\n",
    "- Conversion dynamique."
   ]
  },
  {
   "cell_type": "code",
   "execution_count": null,
   "id": "fb8e4c63",
   "metadata": {},
   "outputs": [],
   "source": []
  },
  {
   "cell_type": "markdown",
   "id": "220ca25a",
   "metadata": {},
   "source": [
    "## Manipuler un système de fichier"
   ]
  },
  {
   "cell_type": "code",
   "execution_count": 1,
   "id": "a00b8137",
   "metadata": {},
   "outputs": [],
   "source": [
    "import os\n",
    "import sys\n",
    "import io\n",
    "import glob"
   ]
  },
  {
   "cell_type": "code",
   "execution_count": 2,
   "id": "969b5aec",
   "metadata": {},
   "outputs": [
    {
     "name": "stdout",
     "output_type": "stream",
     "text": [
      "Le répertoire courant est  C:\\Users\\wjulien\\OneDrive - GPSEA\\PROJETS\\FORMATIONS\\PYTHON\\SEANCE_01\n"
     ]
    }
   ],
   "source": [
    "## Afficher le répertoire courant :\n",
    "repertoire_courant = os.getcwd()\n",
    "print(\"Le répertoire courant est \", repertoire_courant)"
   ]
  },
  {
   "cell_type": "code",
   "execution_count": 3,
   "id": "dd99152f",
   "metadata": {},
   "outputs": [
    {
     "name": "stdout",
     "output_type": "stream",
     "text": [
      "Le répertoire courant est  C:\\Users\\wjulien\\OneDrive - GPSEA\\PROJETS\\FORMATIONS\\PYTHON\\SEANCE_01\\DONNEES\n",
      "Le répertoire courant est  C:\\Users\\wjulien\\OneDrive - GPSEA\\PROJETS\\FORMATIONS\\PYTHON\\SEANCE_01\n"
     ]
    }
   ],
   "source": [
    "## Se déplacer dans un système de fichier :\n",
    "\n",
    "nouveau_repertoire = \".\\\\DONNEES\"  # Remplacez ceci par le chemin réel\n",
    "os.chdir(nouveau_repertoire)\n",
    "repertoire_courant = os.getcwd()\n",
    "print(\"Le répertoire courant est \", repertoire_courant)\n",
    "os.chdir(\"..\")\n",
    "repertoire_courant = os.getcwd()\n",
    "print(\"Le répertoire courant est \", repertoire_courant)"
   ]
  },
  {
   "cell_type": "code",
   "execution_count": 5,
   "id": "8d8db098",
   "metadata": {},
   "outputs": [
    {
     "name": "stdout",
     "output_type": "stream",
     "text": [
      "C:\\Users\\wjulien\\OneDrive - GPSEA\\PROJETS\\FORMATIONS\\PYTHON\\SEANCE_01\\['seance_01.ipynb', 'Untitled.ipynb']\n",
      "C:\\Users\\wjulien\\OneDrive - GPSEA\\PROJETS\\FORMATIONS\\PYTHON\\SEANCE_01\\.ipynb_checkpoints\\['seance_01-checkpoint.ipynb', 'Untitled-checkpoint.ipynb']\n",
      "C:\\Users\\wjulien\\OneDrive - GPSEA\\PROJETS\\FORMATIONS\\PYTHON\\SEANCE_01\\DOCUMENTS\\[]\n",
      "C:\\Users\\wjulien\\OneDrive - GPSEA\\PROJETS\\FORMATIONS\\PYTHON\\SEANCE_01\\DONNEES\\[]\n",
      "C:\\Users\\wjulien\\OneDrive - GPSEA\\PROJETS\\FORMATIONS\\PYTHON\\SEANCE_01\\DONNEES\\REP_1\\['fic_1.txt', 'fic_2.txt', 'fic_3.txt', 'fic_4.txt', 'fic_5.txt', 'fic_6.txt', 'fic_7.txt']\n",
      "C:\\Users\\wjulien\\OneDrive - GPSEA\\PROJETS\\FORMATIONS\\PYTHON\\SEANCE_01\\DONNEES\\REP_10\\[]\n",
      "C:\\Users\\wjulien\\OneDrive - GPSEA\\PROJETS\\FORMATIONS\\PYTHON\\SEANCE_01\\DONNEES\\REP_2\\['fic_1.txt', 'fic_2.txt', 'fic_3.txt', 'fic_4.txt', 'fic_5.txt']\n",
      "C:\\Users\\wjulien\\OneDrive - GPSEA\\PROJETS\\FORMATIONS\\PYTHON\\SEANCE_01\\DONNEES\\REP_3\\['fic_1.txt', 'fic_2.txt']\n",
      "C:\\Users\\wjulien\\OneDrive - GPSEA\\PROJETS\\FORMATIONS\\PYTHON\\SEANCE_01\\DONNEES\\REP_4\\[]\n",
      "C:\\Users\\wjulien\\OneDrive - GPSEA\\PROJETS\\FORMATIONS\\PYTHON\\SEANCE_01\\DONNEES\\REP_5\\['fic_1.txt', 'fic_2.txt', 'fic_3.txt', 'fic_4.txt', 'fic_5.txt']\n",
      "C:\\Users\\wjulien\\OneDrive - GPSEA\\PROJETS\\FORMATIONS\\PYTHON\\SEANCE_01\\DONNEES\\REP_6\\['fic_1.txt', 'fic_2.txt', 'fic_3.txt']\n",
      "C:\\Users\\wjulien\\OneDrive - GPSEA\\PROJETS\\FORMATIONS\\PYTHON\\SEANCE_01\\DONNEES\\REP_7\\['fic_1.txt', 'fic_2.txt', 'fic_3.txt', 'fic_4.txt', 'fic_5.txt']\n",
      "C:\\Users\\wjulien\\OneDrive - GPSEA\\PROJETS\\FORMATIONS\\PYTHON\\SEANCE_01\\DONNEES\\REP_8\\['fic_1.txt', 'fic_2.txt']\n",
      "C:\\Users\\wjulien\\OneDrive - GPSEA\\PROJETS\\FORMATIONS\\PYTHON\\SEANCE_01\\DONNEES\\REP_9\\['fic_1.txt']\n",
      "C:\\Users\\wjulien\\OneDrive - GPSEA\\PROJETS\\FORMATIONS\\PYTHON\\SEANCE_01\\RESULTATS\\[]\n",
      "C:\\Users\\wjulien\\OneDrive - GPSEA\\PROJETS\\FORMATIONS\\PYTHON\\SEANCE_01\\TRAITEMENT\\[]\n"
     ]
    }
   ],
   "source": [
    "## Lister les fichiers dans les répertoires :\n",
    "\n",
    "rep = os.getcwd()\n",
    "\n",
    "## vérifier si le chemin existe :\n",
    "if os.path.exists(rep) == True :\n",
    "    ## lancer la fonction\n",
    "    for chemin, doss, fichier in os.walk(rep) :\n",
    "\n",
    "        print(f\"{chemin}\\\\{fichier}\")\n",
    "\n",
    "\n",
    "elif os.path.exists(rep) == False :\n",
    "    print(\"Chemin non reconnu\")     \n"
   ]
  },
  {
   "cell_type": "code",
   "execution_count": null,
   "id": "82547720",
   "metadata": {},
   "outputs": [],
   "source": []
  },
  {
   "cell_type": "code",
   "execution_count": null,
   "id": "fac7f4ef",
   "metadata": {},
   "outputs": [],
   "source": []
  },
  {
   "cell_type": "code",
   "execution_count": null,
   "id": "58f97f6a",
   "metadata": {},
   "outputs": [],
   "source": []
  },
  {
   "cell_type": "code",
   "execution_count": null,
   "id": "69583b66",
   "metadata": {},
   "outputs": [],
   "source": []
  },
  {
   "cell_type": "code",
   "execution_count": null,
   "id": "69901531",
   "metadata": {},
   "outputs": [],
   "source": []
  },
  {
   "cell_type": "markdown",
   "id": "8c887c2b",
   "metadata": {},
   "source": []
  }
 ],
 "metadata": {
  "kernelspec": {
   "display_name": "Python 3 (ipykernel)",
   "language": "python",
   "name": "python3"
  },
  "language_info": {
   "codemirror_mode": {
    "name": "ipython",
    "version": 3
   },
   "file_extension": ".py",
   "mimetype": "text/x-python",
   "name": "python",
   "nbconvert_exporter": "python",
   "pygments_lexer": "ipython3",
   "version": "3.9.16"
  }
 },
 "nbformat": 4,
 "nbformat_minor": 5
}
